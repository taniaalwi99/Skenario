{
  "cells": [
    {
      "cell_type": "markdown",
      "metadata": {
        "id": "view-in-github",
        "colab_type": "text"
      },
      "source": [
        "<a href=\"https://colab.research.google.com/github/taniaalwi99/Skenario/blob/main/Tuberculosis/Epoch/80.ipynb\" target=\"_parent\"><img src=\"https://colab.research.google.com/assets/colab-badge.svg\" alt=\"Open In Colab\"/></a>"
      ]
    },
    {
      "cell_type": "markdown",
      "metadata": {
        "id": "CSh2Adf3ennR"
      },
      "source": [
        ""
      ]
    },
    {
      "cell_type": "code",
      "execution_count": 1,
      "metadata": {
        "colab": {
          "base_uri": "https://localhost:8080/"
        },
        "id": "2_RYo7hrXaC5",
        "outputId": "ff6f6290-0733-4b1a-8e17-b8f12ed72fcf"
      },
      "outputs": [
        {
          "output_type": "stream",
          "name": "stdout",
          "text": [
            "Mounted at /content/drive\n"
          ]
        }
      ],
      "source": [
        "from google.colab import drive\n",
        "drive.mount('/content/drive')"
      ]
    },
    {
      "cell_type": "code",
      "execution_count": 2,
      "metadata": {
        "colab": {
          "base_uri": "https://localhost:8080/"
        },
        "id": "G4aisxOFX3KH",
        "outputId": "cd6e483c-4717-40b0-d874-81ff8b1d843f"
      },
      "outputs": [
        {
          "output_type": "stream",
          "name": "stdout",
          "text": [
            "/content/drive/My Drive/Colab Notebooks\n"
          ]
        }
      ],
      "source": [
        "cd /content/drive/My Drive/Colab Notebooks"
      ]
    },
    {
      "cell_type": "code",
      "execution_count": 3,
      "metadata": {
        "colab": {
          "base_uri": "https://localhost:8080/"
        },
        "id": "e_oGUrADX8O_",
        "outputId": "6eb5e335-ce2e-497d-b0cf-24893c6e27fe"
      },
      "outputs": [
        {
          "output_type": "stream",
          "name": "stdout",
          "text": [
            "\u001b[0m\u001b[01;34m'Dataset Gray'\u001b[0m/   \u001b[01;36mGMB_05\u001b[0m@           Untitled1.ipynb   Untitled5.ipynb\n",
            " \u001b[01;36mGMB_01\u001b[0m@          \u001b[01;36mGMB_06\u001b[0m@           Untitled2.ipynb   Untitled6.ipynb\n",
            " \u001b[01;36mGMB_02\u001b[0m@         'Tugas 12.ipynb'   Untitled3.ipynb   Untitled7.ipynb\n",
            " \u001b[01;36mGMB_03\u001b[0m@          Untitled0.ipynb   Untitled4.ipynb   Untitled8.ipynb\n"
          ]
        }
      ],
      "source": [
        "ls"
      ]
    },
    {
      "cell_type": "code",
      "execution_count": 4,
      "metadata": {
        "id": "t95OxlI7X_OF"
      },
      "outputs": [],
      "source": [
        "from keras.models import Model\n",
        "from keras.models import load_model\n",
        "from keras.models import Sequential\n",
        "from keras.layers.convolutional import Convolution2D\n",
        "from keras.layers.convolutional import MaxPooling2D\n",
        "from keras.layers.convolutional import ZeroPadding2D\n",
        "from keras.layers.core import Activation\n",
        "from keras.layers.core import Flatten\n",
        "from keras.layers.core import Dense\n",
        "from keras.layers.core import Dropout\n",
        "from keras.layers import BatchNormalization\n",
        "from keras import regularizers\n",
        "from keras.preprocessing.image import ImageDataGenerator\n",
        "from tensorflow.keras.optimizers import RMSprop, Adam, SGD\n",
        "from sklearn.preprocessing import LabelBinarizer\n",
        "from sklearn.model_selection import train_test_split\n",
        "from sklearn.metrics import classification_report\n",
        "from PIL import Image\n",
        "from matplotlib import pyplot as plt\n",
        "from imutils import paths\n",
        "import numpy as np\n",
        "import os"
      ]
    },
    {
      "cell_type": "code",
      "execution_count": 5,
      "metadata": {
        "colab": {
          "base_uri": "https://localhost:8080/"
        },
        "id": "jvn693i-YDZ8",
        "outputId": "66d16837-c7ea-4509-a9f4-f698677a73f6"
      },
      "outputs": [
        {
          "output_type": "stream",
          "name": "stdout",
          "text": [
            "[INFO] loading images...\n"
          ]
        }
      ],
      "source": [
        "print(\"[INFO] loading images...\")\n",
        "imagePaths = paths.list_images(\"Dataset Gray\")\n",
        "data = []\n",
        "labels = []"
      ]
    },
    {
      "cell_type": "code",
      "execution_count": 6,
      "metadata": {
        "id": "3XLuWAZsYLfK"
      },
      "outputs": [],
      "source": [
        "for imagePaths in imagePaths:\n",
        "    a = Image.open(imagePaths)\n",
        "    image = np.array(a.resize((128,128))) / 255.0\n",
        "    data.append(image)\n",
        "    \n",
        "    label = imagePaths.split(os.path.sep) [-2]\n",
        "    labels.append(label)"
      ]
    },
    {
      "cell_type": "code",
      "execution_count": 7,
      "metadata": {
        "colab": {
          "base_uri": "https://localhost:8080/"
        },
        "id": "gnjyPDi_Yyrn",
        "outputId": "1750d8d5-d313-4a89-cf06-ea1f7d7a229a"
      },
      "outputs": [
        {
          "output_type": "stream",
          "name": "stdout",
          "text": [
            "[[1 0]\n",
            " [1 0]\n",
            " [1 0]\n",
            " ...\n",
            " [0 1]\n",
            " [0 1]\n",
            " [0 1]]\n"
          ]
        }
      ],
      "source": [
        "from sklearn.preprocessing import LabelBinarizer\n",
        "import numpy as np\n",
        "\n",
        "class MyLabelBinarizer(LabelBinarizer):\n",
        "    def transform(self, label):\n",
        "      nilaiy = super().transform(label)\n",
        "      if self.y_type_== 'binary':\n",
        "        return np.hstack((nilaiy, 1-nilaiy))\n",
        "      else:\n",
        "        return nilaiy\n",
        "    def inverse_transform(self, nilaiy, threshold=None):\n",
        "      if self.y_type_ == 'binary':\n",
        "          return super().inverse_transform(nilaiy[:, 0], threshold)\n",
        "      else:\n",
        "          return super().inverse_transform(nilaiy, threshold)\n",
        "\n",
        "      \n",
        "\n",
        "lb = MyLabelBinarizer()\n",
        "labels = lb.fit_transform(labels)\n",
        "print(labels)"
      ]
    },
    {
      "cell_type": "code",
      "execution_count": 8,
      "metadata": {
        "colab": {
          "base_uri": "https://localhost:8080/"
        },
        "id": "0V3CnlQtY1g2",
        "outputId": "3a0e4dce-91de-4936-9b4a-d3d25b8cfd36"
      },
      "outputs": [
        {
          "output_type": "stream",
          "name": "stdout",
          "text": [
            "(1120, 128, 128)\n",
            "(280, 128, 128)\n"
          ]
        }
      ],
      "source": [
        "(trainX,testX, trainY, testY) = train_test_split(np.array(data),np.array(labels), test_size=0.20, random_state=0)\n",
        "print(trainX.shape)\n",
        "print(testX.shape)"
      ]
    },
    {
      "cell_type": "code",
      "execution_count": 9,
      "metadata": {
        "id": "WpeYjXzUZCZP"
      },
      "outputs": [],
      "source": [
        "def vgg16(num_classes):\n",
        "\n",
        "    vgg16 = Sequential()\n",
        "\n",
        "    vgg16.add(Convolution2D(input_shape=(128,128,1),filters=64,kernel_size=(3,3),padding=\"same\"))\n",
        "    vgg16.add(Activation('relu'))\n",
        "    vgg16.add(BatchNormalization())\n",
        "    #layer1 32*32*64\n",
        "    vgg16.add(Convolution2D(filters=64,kernel_size=(3,3),padding=\"same\"))\n",
        "    vgg16.add(Activation('relu'))\n",
        "    vgg16.add(MaxPooling2D(pool_size=(2, 2),strides=(2,2)))\n",
        "    vgg16.add(BatchNormalization())\n",
        "    #layer2 16*16*64\n",
        "    vgg16.add(Convolution2D(filters=128, kernel_size=(3,3), padding=\"same\"))\n",
        "    vgg16.add(Activation('relu'))\n",
        "    vgg16.add(BatchNormalization())\n",
        "    #layer3 16*16*128\n",
        "    vgg16.add(Convolution2D(filters=128, kernel_size=(3,3), padding=\"same\",))\n",
        "    vgg16.add(Activation('relu'))\n",
        "    vgg16.add(MaxPooling2D(pool_size=(2,2),strides=(2,2)))\n",
        "    vgg16.add(BatchNormalization())\n",
        "    #layer4 8*8*128\n",
        "    vgg16.add(Convolution2D(filters=256, kernel_size=(3,3), padding=\"same\"))\n",
        "    vgg16.add(Activation('relu'))\n",
        "    vgg16.add(BatchNormalization())\n",
        "    #layer5 8*8*256\n",
        "    vgg16.add(Convolution2D(filters=256, kernel_size=(3,3), padding=\"same\"))\n",
        "    vgg16.add(Activation('relu'))\n",
        "    vgg16.add(BatchNormalization())\n",
        "    #layer6 8*8*256\n",
        "    vgg16.add(Convolution2D(filters=256, kernel_size=(3,3), padding=\"same\"))\n",
        "    vgg16.add(Activation('relu'))\n",
        "    vgg16.add(MaxPooling2D(pool_size=(2,2),strides=(2,2)))\n",
        "    vgg16.add(BatchNormalization())\n",
        "    #layer7 4*4*256\n",
        "    vgg16.add(Convolution2D(filters=512, kernel_size=(3,3), padding=\"same\"))\n",
        "    vgg16.add(Activation('relu'))\n",
        "    vgg16.add(BatchNormalization())\n",
        "    #layer8 4*4*512\n",
        "    vgg16.add(Convolution2D(filters=512, kernel_size=(3,3), padding=\"same\"))\n",
        "    vgg16.add(Activation('relu'))\n",
        "    vgg16.add(BatchNormalization())\n",
        "    #layer9 4*4*512\n",
        "    vgg16.add(Convolution2D(filters=512, kernel_size=(3,3), padding=\"same\"))\n",
        "    vgg16.add(Activation('relu'))\n",
        "    vgg16.add(MaxPooling2D(pool_size=(2,2),strides=(2,2)))\n",
        "    vgg16.add(BatchNormalization())\n",
        "    #layer10 2*2*512\n",
        "    vgg16.add(Convolution2D(filters=512, kernel_size=(3,3), padding=\"same\"))\n",
        "    vgg16.add(Activation('relu'))\n",
        "    vgg16.add(BatchNormalization())\n",
        "    #layer11 2*2*512\n",
        "    vgg16.add(Convolution2D(filters=512, kernel_size=(3,3), padding=\"same\"))  \n",
        "    vgg16.add(Activation('relu')) \n",
        "    vgg16.add(BatchNormalization())       \n",
        "    #layer12 2*2*512\n",
        "    vgg16.add(Convolution2D(filters=512, kernel_size=(3,3), padding=\"same\"))\n",
        "    vgg16.add(Activation('relu'))\n",
        "    vgg16.add(MaxPooling2D(pool_size=(2,2),strides=(2,2)))\n",
        "    vgg16.add(BatchNormalization())\n",
        "    #layer13 1*1*512\n",
        "    vgg16.add(Flatten())\n",
        "    vgg16.add(Dense(units=4096))\n",
        "    vgg16.add(Activation('relu')) \n",
        "    vgg16.add(BatchNormalization())\n",
        "    vgg16.add(Dropout(0.5))\n",
        "    #layer14 4096\n",
        "    vgg16.add(Dense(units=4096))\n",
        "    vgg16.add(Activation('relu')) \n",
        "    vgg16.add(BatchNormalization())\n",
        "    vgg16.add(Dropout(0.5))\n",
        "    #layer16 4096\n",
        "    vgg16.add(Dense(units=1000))\n",
        "    vgg16.add(Activation('relu'))\n",
        "    vgg16.add(BatchNormalization())\n",
        "    vgg16.add(Dropout(0.5)) \n",
        "    #layer16 1000\n",
        "    vgg16.add(Dense(2, activation=\"softmax\"))\n",
        "\n",
        "    return vgg16"
      ]
    },
    {
      "cell_type": "code",
      "execution_count": 10,
      "metadata": {
        "colab": {
          "base_uri": "https://localhost:8080/"
        },
        "id": "rlT3OhVuZLUs",
        "outputId": "b6378882-16b7-4d39-8840-a163bf36622a"
      },
      "outputs": [
        {
          "output_type": "stream",
          "name": "stdout",
          "text": [
            "Model: \"sequential\"\n",
            "_________________________________________________________________\n",
            " Layer (type)                Output Shape              Param #   \n",
            "=================================================================\n",
            " conv2d (Conv2D)             (None, 128, 128, 64)      640       \n",
            "                                                                 \n",
            " activation (Activation)     (None, 128, 128, 64)      0         \n",
            "                                                                 \n",
            " batch_normalization (BatchN  (None, 128, 128, 64)     256       \n",
            " ormalization)                                                   \n",
            "                                                                 \n",
            " conv2d_1 (Conv2D)           (None, 128, 128, 64)      36928     \n",
            "                                                                 \n",
            " activation_1 (Activation)   (None, 128, 128, 64)      0         \n",
            "                                                                 \n",
            " max_pooling2d (MaxPooling2D  (None, 64, 64, 64)       0         \n",
            " )                                                               \n",
            "                                                                 \n",
            " batch_normalization_1 (Batc  (None, 64, 64, 64)       256       \n",
            " hNormalization)                                                 \n",
            "                                                                 \n",
            " conv2d_2 (Conv2D)           (None, 64, 64, 128)       73856     \n",
            "                                                                 \n",
            " activation_2 (Activation)   (None, 64, 64, 128)       0         \n",
            "                                                                 \n",
            " batch_normalization_2 (Batc  (None, 64, 64, 128)      512       \n",
            " hNormalization)                                                 \n",
            "                                                                 \n",
            " conv2d_3 (Conv2D)           (None, 64, 64, 128)       147584    \n",
            "                                                                 \n",
            " activation_3 (Activation)   (None, 64, 64, 128)       0         \n",
            "                                                                 \n",
            " max_pooling2d_1 (MaxPooling  (None, 32, 32, 128)      0         \n",
            " 2D)                                                             \n",
            "                                                                 \n",
            " batch_normalization_3 (Batc  (None, 32, 32, 128)      512       \n",
            " hNormalization)                                                 \n",
            "                                                                 \n",
            " conv2d_4 (Conv2D)           (None, 32, 32, 256)       295168    \n",
            "                                                                 \n",
            " activation_4 (Activation)   (None, 32, 32, 256)       0         \n",
            "                                                                 \n",
            " batch_normalization_4 (Batc  (None, 32, 32, 256)      1024      \n",
            " hNormalization)                                                 \n",
            "                                                                 \n",
            " conv2d_5 (Conv2D)           (None, 32, 32, 256)       590080    \n",
            "                                                                 \n",
            " activation_5 (Activation)   (None, 32, 32, 256)       0         \n",
            "                                                                 \n",
            " batch_normalization_5 (Batc  (None, 32, 32, 256)      1024      \n",
            " hNormalization)                                                 \n",
            "                                                                 \n",
            " conv2d_6 (Conv2D)           (None, 32, 32, 256)       590080    \n",
            "                                                                 \n",
            " activation_6 (Activation)   (None, 32, 32, 256)       0         \n",
            "                                                                 \n",
            " max_pooling2d_2 (MaxPooling  (None, 16, 16, 256)      0         \n",
            " 2D)                                                             \n",
            "                                                                 \n",
            " batch_normalization_6 (Batc  (None, 16, 16, 256)      1024      \n",
            " hNormalization)                                                 \n",
            "                                                                 \n",
            " conv2d_7 (Conv2D)           (None, 16, 16, 512)       1180160   \n",
            "                                                                 \n",
            " activation_7 (Activation)   (None, 16, 16, 512)       0         \n",
            "                                                                 \n",
            " batch_normalization_7 (Batc  (None, 16, 16, 512)      2048      \n",
            " hNormalization)                                                 \n",
            "                                                                 \n",
            " conv2d_8 (Conv2D)           (None, 16, 16, 512)       2359808   \n",
            "                                                                 \n",
            " activation_8 (Activation)   (None, 16, 16, 512)       0         \n",
            "                                                                 \n",
            " batch_normalization_8 (Batc  (None, 16, 16, 512)      2048      \n",
            " hNormalization)                                                 \n",
            "                                                                 \n",
            " conv2d_9 (Conv2D)           (None, 16, 16, 512)       2359808   \n",
            "                                                                 \n",
            " activation_9 (Activation)   (None, 16, 16, 512)       0         \n",
            "                                                                 \n",
            " max_pooling2d_3 (MaxPooling  (None, 8, 8, 512)        0         \n",
            " 2D)                                                             \n",
            "                                                                 \n",
            " batch_normalization_9 (Batc  (None, 8, 8, 512)        2048      \n",
            " hNormalization)                                                 \n",
            "                                                                 \n",
            " conv2d_10 (Conv2D)          (None, 8, 8, 512)         2359808   \n",
            "                                                                 \n",
            " activation_10 (Activation)  (None, 8, 8, 512)         0         \n",
            "                                                                 \n",
            " batch_normalization_10 (Bat  (None, 8, 8, 512)        2048      \n",
            " chNormalization)                                                \n",
            "                                                                 \n",
            " conv2d_11 (Conv2D)          (None, 8, 8, 512)         2359808   \n",
            "                                                                 \n",
            " activation_11 (Activation)  (None, 8, 8, 512)         0         \n",
            "                                                                 \n",
            " batch_normalization_11 (Bat  (None, 8, 8, 512)        2048      \n",
            " chNormalization)                                                \n",
            "                                                                 \n",
            " conv2d_12 (Conv2D)          (None, 8, 8, 512)         2359808   \n",
            "                                                                 \n",
            " activation_12 (Activation)  (None, 8, 8, 512)         0         \n",
            "                                                                 \n",
            " max_pooling2d_4 (MaxPooling  (None, 4, 4, 512)        0         \n",
            " 2D)                                                             \n",
            "                                                                 \n",
            " batch_normalization_12 (Bat  (None, 4, 4, 512)        2048      \n",
            " chNormalization)                                                \n",
            "                                                                 \n",
            " flatten (Flatten)           (None, 8192)              0         \n",
            "                                                                 \n",
            " dense (Dense)               (None, 4096)              33558528  \n",
            "                                                                 \n",
            " activation_13 (Activation)  (None, 4096)              0         \n",
            "                                                                 \n",
            " batch_normalization_13 (Bat  (None, 4096)             16384     \n",
            " chNormalization)                                                \n",
            "                                                                 \n",
            " dropout (Dropout)           (None, 4096)              0         \n",
            "                                                                 \n",
            " dense_1 (Dense)             (None, 4096)              16781312  \n",
            "                                                                 \n",
            " activation_14 (Activation)  (None, 4096)              0         \n",
            "                                                                 \n",
            " batch_normalization_14 (Bat  (None, 4096)             16384     \n",
            " chNormalization)                                                \n",
            "                                                                 \n",
            " dropout_1 (Dropout)         (None, 4096)              0         \n",
            "                                                                 \n",
            " dense_2 (Dense)             (None, 1000)              4097000   \n",
            "                                                                 \n",
            " activation_15 (Activation)  (None, 1000)              0         \n",
            "                                                                 \n",
            " batch_normalization_15 (Bat  (None, 1000)             4000      \n",
            " chNormalization)                                                \n",
            "                                                                 \n",
            " dropout_2 (Dropout)         (None, 1000)              0         \n",
            "                                                                 \n",
            " dense_3 (Dense)             (None, 2)                 2002      \n",
            "                                                                 \n",
            "=================================================================\n",
            "Total params: 69,206,042\n",
            "Trainable params: 69,179,210\n",
            "Non-trainable params: 26,832\n",
            "_________________________________________________________________\n"
          ]
        }
      ],
      "source": [
        "num_classes=2\n",
        "vgg16=vgg16(num_classes)\n",
        "vgg16.summary()"
      ]
    },
    {
      "cell_type": "code",
      "execution_count": 11,
      "metadata": {
        "colab": {
          "base_uri": "https://localhost:8080/"
        },
        "id": "eZ0TePWVZTx4",
        "outputId": "147afc5a-b1ac-4343-8cc8-175868c301df"
      },
      "outputs": [
        {
          "output_type": "stream",
          "name": "stdout",
          "text": [
            "Model: \"sequential\"\n",
            "_________________________________________________________________\n",
            " Layer (type)                Output Shape              Param #   \n",
            "=================================================================\n",
            " conv2d (Conv2D)             (None, 128, 128, 64)      640       \n",
            "                                                                 \n",
            " activation (Activation)     (None, 128, 128, 64)      0         \n",
            "                                                                 \n",
            " batch_normalization (BatchN  (None, 128, 128, 64)     256       \n",
            " ormalization)                                                   \n",
            "                                                                 \n",
            " conv2d_1 (Conv2D)           (None, 128, 128, 64)      36928     \n",
            "                                                                 \n",
            " activation_1 (Activation)   (None, 128, 128, 64)      0         \n",
            "                                                                 \n",
            " max_pooling2d (MaxPooling2D  (None, 64, 64, 64)       0         \n",
            " )                                                               \n",
            "                                                                 \n",
            " batch_normalization_1 (Batc  (None, 64, 64, 64)       256       \n",
            " hNormalization)                                                 \n",
            "                                                                 \n",
            " conv2d_2 (Conv2D)           (None, 64, 64, 128)       73856     \n",
            "                                                                 \n",
            " activation_2 (Activation)   (None, 64, 64, 128)       0         \n",
            "                                                                 \n",
            " batch_normalization_2 (Batc  (None, 64, 64, 128)      512       \n",
            " hNormalization)                                                 \n",
            "                                                                 \n",
            " conv2d_3 (Conv2D)           (None, 64, 64, 128)       147584    \n",
            "                                                                 \n",
            " activation_3 (Activation)   (None, 64, 64, 128)       0         \n",
            "                                                                 \n",
            " max_pooling2d_1 (MaxPooling  (None, 32, 32, 128)      0         \n",
            " 2D)                                                             \n",
            "                                                                 \n",
            " batch_normalization_3 (Batc  (None, 32, 32, 128)      512       \n",
            " hNormalization)                                                 \n",
            "                                                                 \n",
            " conv2d_4 (Conv2D)           (None, 32, 32, 256)       295168    \n",
            "                                                                 \n",
            " activation_4 (Activation)   (None, 32, 32, 256)       0         \n",
            "                                                                 \n",
            " batch_normalization_4 (Batc  (None, 32, 32, 256)      1024      \n",
            " hNormalization)                                                 \n",
            "                                                                 \n",
            " conv2d_5 (Conv2D)           (None, 32, 32, 256)       590080    \n",
            "                                                                 \n",
            " activation_5 (Activation)   (None, 32, 32, 256)       0         \n",
            "                                                                 \n",
            " batch_normalization_5 (Batc  (None, 32, 32, 256)      1024      \n",
            " hNormalization)                                                 \n",
            "                                                                 \n",
            " conv2d_6 (Conv2D)           (None, 32, 32, 256)       590080    \n",
            "                                                                 \n",
            " activation_6 (Activation)   (None, 32, 32, 256)       0         \n",
            "                                                                 \n",
            " max_pooling2d_2 (MaxPooling  (None, 16, 16, 256)      0         \n",
            " 2D)                                                             \n",
            "                                                                 \n",
            " batch_normalization_6 (Batc  (None, 16, 16, 256)      1024      \n",
            " hNormalization)                                                 \n",
            "                                                                 \n",
            " conv2d_7 (Conv2D)           (None, 16, 16, 512)       1180160   \n",
            "                                                                 \n",
            " activation_7 (Activation)   (None, 16, 16, 512)       0         \n",
            "                                                                 \n",
            " batch_normalization_7 (Batc  (None, 16, 16, 512)      2048      \n",
            " hNormalization)                                                 \n",
            "                                                                 \n",
            " conv2d_8 (Conv2D)           (None, 16, 16, 512)       2359808   \n",
            "                                                                 \n",
            " activation_8 (Activation)   (None, 16, 16, 512)       0         \n",
            "                                                                 \n",
            " batch_normalization_8 (Batc  (None, 16, 16, 512)      2048      \n",
            " hNormalization)                                                 \n",
            "                                                                 \n",
            " conv2d_9 (Conv2D)           (None, 16, 16, 512)       2359808   \n",
            "                                                                 \n",
            " activation_9 (Activation)   (None, 16, 16, 512)       0         \n",
            "                                                                 \n",
            " max_pooling2d_3 (MaxPooling  (None, 8, 8, 512)        0         \n",
            " 2D)                                                             \n",
            "                                                                 \n",
            " batch_normalization_9 (Batc  (None, 8, 8, 512)        2048      \n",
            " hNormalization)                                                 \n",
            "                                                                 \n",
            " conv2d_10 (Conv2D)          (None, 8, 8, 512)         2359808   \n",
            "                                                                 \n",
            " activation_10 (Activation)  (None, 8, 8, 512)         0         \n",
            "                                                                 \n",
            " batch_normalization_10 (Bat  (None, 8, 8, 512)        2048      \n",
            " chNormalization)                                                \n",
            "                                                                 \n",
            " conv2d_11 (Conv2D)          (None, 8, 8, 512)         2359808   \n",
            "                                                                 \n",
            " activation_11 (Activation)  (None, 8, 8, 512)         0         \n",
            "                                                                 \n",
            " batch_normalization_11 (Bat  (None, 8, 8, 512)        2048      \n",
            " chNormalization)                                                \n",
            "                                                                 \n",
            " conv2d_12 (Conv2D)          (None, 8, 8, 512)         2359808   \n",
            "                                                                 \n",
            " activation_12 (Activation)  (None, 8, 8, 512)         0         \n",
            "                                                                 \n",
            " max_pooling2d_4 (MaxPooling  (None, 4, 4, 512)        0         \n",
            " 2D)                                                             \n",
            "                                                                 \n",
            " batch_normalization_12 (Bat  (None, 4, 4, 512)        2048      \n",
            " chNormalization)                                                \n",
            "                                                                 \n",
            " flatten (Flatten)           (None, 8192)              0         \n",
            "                                                                 \n",
            " dense (Dense)               (None, 4096)              33558528  \n"
          ]
        },
        {
          "output_type": "stream",
          "name": "stderr",
          "text": [
            "/usr/local/lib/python3.7/dist-packages/keras/optimizer_v2/gradient_descent.py:102: UserWarning: The `lr` argument is deprecated, use `learning_rate` instead.\n",
            "  super(SGD, self).__init__(name, **kwargs)\n"
          ]
        },
        {
          "output_type": "stream",
          "name": "stdout",
          "text": [
            "                                                                 \n",
            " activation_13 (Activation)  (None, 4096)              0         \n",
            "                                                                 \n",
            " batch_normalization_13 (Bat  (None, 4096)             16384     \n",
            " chNormalization)                                                \n",
            "                                                                 \n",
            " dropout (Dropout)           (None, 4096)              0         \n",
            "                                                                 \n",
            " dense_1 (Dense)             (None, 4096)              16781312  \n",
            "                                                                 \n",
            " activation_14 (Activation)  (None, 4096)              0         \n",
            "                                                                 \n",
            " batch_normalization_14 (Bat  (None, 4096)             16384     \n",
            " chNormalization)                                                \n",
            "                                                                 \n",
            " dropout_1 (Dropout)         (None, 4096)              0         \n",
            "                                                                 \n",
            " dense_2 (Dense)             (None, 1000)              4097000   \n",
            "                                                                 \n",
            " activation_15 (Activation)  (None, 1000)              0         \n",
            "                                                                 \n",
            " batch_normalization_15 (Bat  (None, 1000)             4000      \n",
            " chNormalization)                                                \n",
            "                                                                 \n",
            " dropout_2 (Dropout)         (None, 1000)              0         \n",
            "                                                                 \n",
            " dense_3 (Dense)             (None, 2)                 2002      \n",
            "                                                                 \n",
            "=================================================================\n",
            "Total params: 69,206,042\n",
            "Trainable params: 69,179,210\n",
            "Non-trainable params: 26,832\n",
            "_________________________________________________________________\n"
          ]
        }
      ],
      "source": [
        "#setting hyperparameter, menggunakan Adam\n",
        "opt = SGD(lr=0.01)\n",
        "vgg16.compile(loss='categorical_crossentropy', optimizer=opt, metrics=['accuracy'])\n",
        "vgg16.summary()"
      ]
    },
    {
      "cell_type": "code",
      "execution_count": 12,
      "metadata": {
        "colab": {
          "base_uri": "https://localhost:8080/"
        },
        "id": "JOp0TzHxZYLf",
        "outputId": "43993ceb-7817-47ef-bb44-2dcb01e9a2b8"
      },
      "outputs": [
        {
          "output_type": "stream",
          "name": "stdout",
          "text": [
            "Epoch 1/80\n",
            "70/70 [==============================] - 25s 142ms/step - loss: 0.8150 - accuracy: 0.7446 - val_loss: 1.1793 - val_accuracy: 0.5036\n",
            "Epoch 2/80\n",
            "70/70 [==============================] - 7s 104ms/step - loss: 0.4732 - accuracy: 0.8491 - val_loss: 4.3327 - val_accuracy: 0.5107\n",
            "Epoch 3/80\n",
            "70/70 [==============================] - 7s 106ms/step - loss: 0.3466 - accuracy: 0.8938 - val_loss: 2.6609 - val_accuracy: 0.6964\n",
            "Epoch 4/80\n",
            "70/70 [==============================] - 8s 108ms/step - loss: 0.2858 - accuracy: 0.8938 - val_loss: 0.9531 - val_accuracy: 0.7714\n",
            "Epoch 5/80\n",
            "70/70 [==============================] - 8s 111ms/step - loss: 0.2750 - accuracy: 0.9018 - val_loss: 0.2708 - val_accuracy: 0.8893\n",
            "Epoch 6/80\n",
            "70/70 [==============================] - 8s 110ms/step - loss: 0.2625 - accuracy: 0.9098 - val_loss: 0.2416 - val_accuracy: 0.9321\n",
            "Epoch 7/80\n",
            "70/70 [==============================] - 8s 109ms/step - loss: 0.1884 - accuracy: 0.9357 - val_loss: 0.1575 - val_accuracy: 0.9286\n",
            "Epoch 8/80\n",
            "70/70 [==============================] - 8s 109ms/step - loss: 0.2024 - accuracy: 0.9304 - val_loss: 0.1575 - val_accuracy: 0.9464\n",
            "Epoch 9/80\n",
            "70/70 [==============================] - 7s 106ms/step - loss: 0.1742 - accuracy: 0.9455 - val_loss: 0.1582 - val_accuracy: 0.9393\n",
            "Epoch 10/80\n",
            "70/70 [==============================] - 7s 105ms/step - loss: 0.1569 - accuracy: 0.9464 - val_loss: 0.0935 - val_accuracy: 0.9607\n",
            "Epoch 11/80\n",
            "70/70 [==============================] - 7s 107ms/step - loss: 0.1140 - accuracy: 0.9661 - val_loss: 0.1081 - val_accuracy: 0.9607\n",
            "Epoch 12/80\n",
            "70/70 [==============================] - 7s 107ms/step - loss: 0.1260 - accuracy: 0.9571 - val_loss: 0.1131 - val_accuracy: 0.9536\n",
            "Epoch 13/80\n",
            "70/70 [==============================] - 7s 105ms/step - loss: 0.1050 - accuracy: 0.9634 - val_loss: 0.1209 - val_accuracy: 0.9500\n",
            "Epoch 14/80\n",
            "70/70 [==============================] - 7s 105ms/step - loss: 0.1205 - accuracy: 0.9589 - val_loss: 0.0610 - val_accuracy: 0.9786\n",
            "Epoch 15/80\n",
            "70/70 [==============================] - 7s 107ms/step - loss: 0.1309 - accuracy: 0.9563 - val_loss: 0.0801 - val_accuracy: 0.9750\n",
            "Epoch 16/80\n",
            "70/70 [==============================] - 7s 106ms/step - loss: 0.0886 - accuracy: 0.9643 - val_loss: 0.0777 - val_accuracy: 0.9714\n",
            "Epoch 17/80\n",
            "70/70 [==============================] - 7s 107ms/step - loss: 0.0847 - accuracy: 0.9714 - val_loss: 0.0766 - val_accuracy: 0.9643\n",
            "Epoch 18/80\n",
            "70/70 [==============================] - 7s 107ms/step - loss: 0.0951 - accuracy: 0.9670 - val_loss: 0.1750 - val_accuracy: 0.9500\n",
            "Epoch 19/80\n",
            "70/70 [==============================] - 7s 107ms/step - loss: 0.1127 - accuracy: 0.9616 - val_loss: 0.1011 - val_accuracy: 0.9571\n",
            "Epoch 20/80\n",
            "70/70 [==============================] - 7s 106ms/step - loss: 0.0942 - accuracy: 0.9634 - val_loss: 0.0415 - val_accuracy: 0.9750\n",
            "Epoch 21/80\n",
            "70/70 [==============================] - 7s 106ms/step - loss: 0.1032 - accuracy: 0.9679 - val_loss: 0.1030 - val_accuracy: 0.9643\n",
            "Epoch 22/80\n",
            "70/70 [==============================] - 7s 106ms/step - loss: 0.0825 - accuracy: 0.9705 - val_loss: 0.0444 - val_accuracy: 0.9857\n",
            "Epoch 23/80\n",
            "70/70 [==============================] - 7s 106ms/step - loss: 0.0676 - accuracy: 0.9759 - val_loss: 0.0756 - val_accuracy: 0.9643\n",
            "Epoch 24/80\n",
            "70/70 [==============================] - 7s 105ms/step - loss: 0.0550 - accuracy: 0.9786 - val_loss: 0.1663 - val_accuracy: 0.9607\n",
            "Epoch 25/80\n",
            "70/70 [==============================] - 7s 106ms/step - loss: 0.0789 - accuracy: 0.9723 - val_loss: 0.0770 - val_accuracy: 0.9750\n",
            "Epoch 26/80\n",
            "70/70 [==============================] - 7s 106ms/step - loss: 0.0757 - accuracy: 0.9786 - val_loss: 0.0485 - val_accuracy: 0.9821\n",
            "Epoch 27/80\n",
            "70/70 [==============================] - 7s 106ms/step - loss: 0.0417 - accuracy: 0.9857 - val_loss: 0.1901 - val_accuracy: 0.9393\n",
            "Epoch 28/80\n",
            "70/70 [==============================] - 7s 106ms/step - loss: 0.0634 - accuracy: 0.9804 - val_loss: 0.0500 - val_accuracy: 0.9821\n",
            "Epoch 29/80\n",
            "70/70 [==============================] - 7s 106ms/step - loss: 0.0748 - accuracy: 0.9759 - val_loss: 0.1065 - val_accuracy: 0.9714\n",
            "Epoch 30/80\n",
            "70/70 [==============================] - 7s 107ms/step - loss: 0.0760 - accuracy: 0.9741 - val_loss: 0.1250 - val_accuracy: 0.9750\n",
            "Epoch 31/80\n",
            "70/70 [==============================] - 7s 106ms/step - loss: 0.0423 - accuracy: 0.9857 - val_loss: 0.0745 - val_accuracy: 0.9714\n",
            "Epoch 32/80\n",
            "70/70 [==============================] - 7s 106ms/step - loss: 0.0442 - accuracy: 0.9902 - val_loss: 0.0803 - val_accuracy: 0.9679\n",
            "Epoch 33/80\n",
            "70/70 [==============================] - 7s 107ms/step - loss: 0.0720 - accuracy: 0.9741 - val_loss: 0.0785 - val_accuracy: 0.9786\n",
            "Epoch 34/80\n",
            "70/70 [==============================] - 7s 106ms/step - loss: 0.0417 - accuracy: 0.9839 - val_loss: 0.0750 - val_accuracy: 0.9679\n",
            "Epoch 35/80\n",
            "70/70 [==============================] - 7s 106ms/step - loss: 0.0297 - accuracy: 0.9893 - val_loss: 0.0556 - val_accuracy: 0.9821\n",
            "Epoch 36/80\n",
            "70/70 [==============================] - 7s 106ms/step - loss: 0.0449 - accuracy: 0.9839 - val_loss: 0.0419 - val_accuracy: 0.9857\n",
            "Epoch 37/80\n",
            "70/70 [==============================] - 7s 106ms/step - loss: 0.0309 - accuracy: 0.9875 - val_loss: 0.0748 - val_accuracy: 0.9679\n",
            "Epoch 38/80\n",
            "70/70 [==============================] - 7s 106ms/step - loss: 0.0753 - accuracy: 0.9777 - val_loss: 0.1134 - val_accuracy: 0.9714\n",
            "Epoch 39/80\n",
            "70/70 [==============================] - 7s 107ms/step - loss: 0.0751 - accuracy: 0.9750 - val_loss: 0.0718 - val_accuracy: 0.9750\n",
            "Epoch 40/80\n",
            "70/70 [==============================] - 7s 106ms/step - loss: 0.0456 - accuracy: 0.9830 - val_loss: 0.0835 - val_accuracy: 0.9714\n",
            "Epoch 41/80\n",
            "70/70 [==============================] - 7s 106ms/step - loss: 0.0187 - accuracy: 0.9920 - val_loss: 0.0607 - val_accuracy: 0.9857\n",
            "Epoch 42/80\n",
            "70/70 [==============================] - 7s 106ms/step - loss: 0.0194 - accuracy: 0.9946 - val_loss: 0.0949 - val_accuracy: 0.9714\n",
            "Epoch 43/80\n",
            "70/70 [==============================] - 7s 106ms/step - loss: 0.0295 - accuracy: 0.9893 - val_loss: 0.0567 - val_accuracy: 0.9857\n",
            "Epoch 44/80\n",
            "70/70 [==============================] - 7s 106ms/step - loss: 0.0557 - accuracy: 0.9795 - val_loss: 0.0707 - val_accuracy: 0.9714\n",
            "Epoch 45/80\n",
            "70/70 [==============================] - 7s 106ms/step - loss: 0.0380 - accuracy: 0.9902 - val_loss: 0.0445 - val_accuracy: 0.9786\n",
            "Epoch 46/80\n",
            "70/70 [==============================] - 7s 106ms/step - loss: 0.0474 - accuracy: 0.9821 - val_loss: 0.0352 - val_accuracy: 0.9857\n",
            "Epoch 47/80\n",
            "70/70 [==============================] - 7s 106ms/step - loss: 0.0304 - accuracy: 0.9902 - val_loss: 0.0301 - val_accuracy: 0.9929\n",
            "Epoch 48/80\n",
            "70/70 [==============================] - 7s 106ms/step - loss: 0.0131 - accuracy: 0.9955 - val_loss: 0.0435 - val_accuracy: 0.9821\n",
            "Epoch 49/80\n",
            "70/70 [==============================] - 7s 106ms/step - loss: 0.0406 - accuracy: 0.9857 - val_loss: 0.0717 - val_accuracy: 0.9714\n",
            "Epoch 50/80\n",
            "70/70 [==============================] - 7s 106ms/step - loss: 0.0372 - accuracy: 0.9893 - val_loss: 0.0318 - val_accuracy: 0.9857\n",
            "Epoch 51/80\n",
            "70/70 [==============================] - 7s 106ms/step - loss: 0.0334 - accuracy: 0.9902 - val_loss: 0.0721 - val_accuracy: 0.9750\n",
            "Epoch 52/80\n",
            "70/70 [==============================] - 7s 106ms/step - loss: 0.0495 - accuracy: 0.9812 - val_loss: 0.0366 - val_accuracy: 0.9893\n",
            "Epoch 53/80\n",
            "70/70 [==============================] - 7s 106ms/step - loss: 0.0153 - accuracy: 0.9937 - val_loss: 0.0948 - val_accuracy: 0.9607\n",
            "Epoch 54/80\n",
            "70/70 [==============================] - 8s 108ms/step - loss: 0.0375 - accuracy: 0.9875 - val_loss: 0.0333 - val_accuracy: 0.9857\n",
            "Epoch 55/80\n",
            "70/70 [==============================] - 7s 106ms/step - loss: 0.0147 - accuracy: 0.9964 - val_loss: 0.0415 - val_accuracy: 0.9893\n",
            "Epoch 56/80\n",
            "70/70 [==============================] - 7s 106ms/step - loss: 0.0340 - accuracy: 0.9857 - val_loss: 0.0576 - val_accuracy: 0.9893\n",
            "Epoch 57/80\n",
            "70/70 [==============================] - 7s 106ms/step - loss: 0.0107 - accuracy: 0.9964 - val_loss: 0.0362 - val_accuracy: 0.9929\n",
            "Epoch 58/80\n",
            "70/70 [==============================] - 7s 106ms/step - loss: 0.0283 - accuracy: 0.9893 - val_loss: 0.0744 - val_accuracy: 0.9821\n",
            "Epoch 59/80\n",
            "70/70 [==============================] - 7s 106ms/step - loss: 0.0343 - accuracy: 0.9902 - val_loss: 0.0864 - val_accuracy: 0.9679\n",
            "Epoch 60/80\n",
            "70/70 [==============================] - 7s 106ms/step - loss: 0.0135 - accuracy: 0.9955 - val_loss: 0.0502 - val_accuracy: 0.9893\n",
            "Epoch 61/80\n",
            "70/70 [==============================] - 7s 106ms/step - loss: 0.0336 - accuracy: 0.9911 - val_loss: 0.0713 - val_accuracy: 0.9786\n",
            "Epoch 62/80\n",
            "70/70 [==============================] - 7s 106ms/step - loss: 0.0288 - accuracy: 0.9920 - val_loss: 0.0446 - val_accuracy: 0.9857\n",
            "Epoch 63/80\n",
            "70/70 [==============================] - 7s 106ms/step - loss: 0.0212 - accuracy: 0.9902 - val_loss: 0.0893 - val_accuracy: 0.9786\n",
            "Epoch 64/80\n",
            "70/70 [==============================] - 7s 106ms/step - loss: 0.0208 - accuracy: 0.9920 - val_loss: 0.0969 - val_accuracy: 0.9750\n",
            "Epoch 65/80\n",
            "70/70 [==============================] - 7s 106ms/step - loss: 0.0291 - accuracy: 0.9866 - val_loss: 0.0526 - val_accuracy: 0.9821\n",
            "Epoch 66/80\n",
            "70/70 [==============================] - 7s 106ms/step - loss: 0.0319 - accuracy: 0.9902 - val_loss: 0.1129 - val_accuracy: 0.9571\n",
            "Epoch 67/80\n",
            "70/70 [==============================] - 7s 106ms/step - loss: 0.0266 - accuracy: 0.9920 - val_loss: 0.0743 - val_accuracy: 0.9821\n",
            "Epoch 68/80\n",
            "70/70 [==============================] - 7s 106ms/step - loss: 0.0172 - accuracy: 0.9946 - val_loss: 0.0848 - val_accuracy: 0.9857\n",
            "Epoch 69/80\n",
            "70/70 [==============================] - 7s 106ms/step - loss: 0.0418 - accuracy: 0.9875 - val_loss: 0.0452 - val_accuracy: 0.9750\n",
            "Epoch 70/80\n",
            "70/70 [==============================] - 7s 106ms/step - loss: 0.0375 - accuracy: 0.9911 - val_loss: 0.0474 - val_accuracy: 0.9857\n",
            "Epoch 71/80\n",
            "70/70 [==============================] - 7s 106ms/step - loss: 0.0136 - accuracy: 0.9946 - val_loss: 0.0515 - val_accuracy: 0.9821\n",
            "Epoch 72/80\n",
            "70/70 [==============================] - 7s 106ms/step - loss: 0.0196 - accuracy: 0.9920 - val_loss: 0.1088 - val_accuracy: 0.9643\n",
            "Epoch 73/80\n",
            "70/70 [==============================] - 7s 106ms/step - loss: 0.0142 - accuracy: 0.9955 - val_loss: 0.0738 - val_accuracy: 0.9821\n",
            "Epoch 74/80\n",
            "70/70 [==============================] - 7s 106ms/step - loss: 0.0289 - accuracy: 0.9920 - val_loss: 0.0750 - val_accuracy: 0.9786\n",
            "Epoch 75/80\n",
            "70/70 [==============================] - 7s 106ms/step - loss: 0.0367 - accuracy: 0.9902 - val_loss: 0.0539 - val_accuracy: 0.9857\n",
            "Epoch 76/80\n",
            "70/70 [==============================] - 7s 106ms/step - loss: 0.0147 - accuracy: 0.9946 - val_loss: 0.1037 - val_accuracy: 0.9714\n",
            "Epoch 77/80\n",
            "70/70 [==============================] - 7s 106ms/step - loss: 0.0212 - accuracy: 0.9955 - val_loss: 0.0580 - val_accuracy: 0.9893\n",
            "Epoch 78/80\n",
            "70/70 [==============================] - 7s 106ms/step - loss: 0.0061 - accuracy: 0.9973 - val_loss: 0.0621 - val_accuracy: 0.9893\n",
            "Epoch 79/80\n",
            "70/70 [==============================] - 7s 106ms/step - loss: 0.0141 - accuracy: 0.9946 - val_loss: 0.0484 - val_accuracy: 0.9857\n",
            "Epoch 80/80\n",
            "70/70 [==============================] - 8s 108ms/step - loss: 0.0101 - accuracy: 0.9973 - val_loss: 0.0645 - val_accuracy: 0.9893\n"
          ]
        }
      ],
      "source": [
        "#training data\n",
        "H = vgg16.fit(trainX, trainY, validation_data=(testX, testY), epochs=80, batch_size=16)"
      ]
    },
    {
      "cell_type": "code",
      "execution_count": 13,
      "metadata": {
        "colab": {
          "base_uri": "https://localhost:8080/"
        },
        "id": "qjoEfHoWsr9H",
        "outputId": "eca326fe-259b-49b9-f6b4-e6334b4e7686"
      },
      "outputs": [
        {
          "output_type": "stream",
          "name": "stdout",
          "text": [
            "[INFO] evaluating network...\n"
          ]
        }
      ],
      "source": [
        "print(\"[INFO] evaluating network...\")\n",
        "predictions = vgg16.predict(testX, batch_size=16)\n",
        "pred=predictions.argmax(axis=1)\n",
        "testY_argm=testY.argmax(axis=1)\n"
      ]
    },
    {
      "cell_type": "code",
      "execution_count": 14,
      "metadata": {
        "colab": {
          "base_uri": "https://localhost:8080/"
        },
        "id": "Po9wqNIMts7s",
        "outputId": "979b47f2-fa8e-4d9a-923a-453b43a40504"
      },
      "outputs": [
        {
          "output_type": "stream",
          "name": "stdout",
          "text": [
            "              precision    recall  f1-score   support\n",
            "\n",
            "      Normal       0.99      0.99      0.99       145\n",
            "Tuberculosis       0.99      0.99      0.99       135\n",
            "\n",
            "    accuracy                           0.99       280\n",
            "   macro avg       0.99      0.99      0.99       280\n",
            "weighted avg       0.99      0.99      0.99       280\n",
            "\n"
          ]
        }
      ],
      "source": [
        "print(classification_report(testY_argm,pred,target_names=lb.classes_))"
      ]
    },
    {
      "cell_type": "code",
      "execution_count": 15,
      "metadata": {
        "colab": {
          "base_uri": "https://localhost:8080/"
        },
        "id": "5NSJXylrt1ND",
        "outputId": "24544a6d-94e5-4933-f2f8-3b201bb79712"
      },
      "outputs": [
        {
          "output_type": "stream",
          "name": "stdout",
          "text": [
            "9/9 [==============================] - 5s 309ms/step - loss: 0.0645 - accuracy: 0.9893\n",
            "Test Loss 0.0645, accuracy 98.93%\n"
          ]
        }
      ],
      "source": [
        "test_score = vgg16.evaluate(testX, testY) \n",
        "print(\"Test Loss {:.4f}, accuracy {:.2f}%\".format(test_score[0], test_score[1] * 100))"
      ]
    },
    {
      "cell_type": "code",
      "execution_count": 16,
      "metadata": {
        "id": "ZS-FXHa6uI6H"
      },
      "outputs": [],
      "source": [
        "from sklearn.metrics import confusion_matrix\n",
        "import itertools\n",
        "\n",
        "def plot_confusion_matrix(cm, classes, normalize=False, title='Confusion matrix', cmap='Blues'):\n",
        "  if normalize:\n",
        "     cm = cm.astype('float') / cm.sum(axis=1)[:, np.newaxis]\n",
        "     print(\"Normalized confusion matrix\")\n",
        "  else:\n",
        "     print('Confusion matrix, without normalization')\n",
        "  print(cm)\n",
        "  plt.imshow(cm, interpolation='nearest', cmap=cmap)\n",
        "  plt.title(title)\n",
        "  plt.colorbar()\n",
        "  tick_marks = np.arange(len(classes))\n",
        "  plt.xticks(tick_marks, classes, rotation=45)\n",
        "  plt.yticks(tick_marks, classes)\n",
        "  fmt = '.2f' if normalize else 'd'\n",
        "  thresh = cm.max() / 2.\n",
        "  for i, j in itertools.product(range(cm.shape[0]), range(cm.shape[1])):\n",
        "      plt.text(j, i, format(cm[i, j], fmt), horizontalalignment=\"center\", color=\"white\" if cm[i, j] > thresh else \"black\")\n",
        "  plt.ylabel('True label')\n",
        "  plt.xlabel('Predicted label')\n",
        "  plt.tight_layout()"
      ]
    },
    {
      "cell_type": "code",
      "execution_count": 17,
      "metadata": {
        "colab": {
          "base_uri": "https://localhost:8080/",
          "height": 1000
        },
        "id": "eiYstz9xuRLx",
        "outputId": "7f10a40e-424e-4da8-efcb-87cc8073c113"
      },
      "outputs": [
        {
          "output_type": "stream",
          "name": "stdout",
          "text": [
            "Normalized confusion matrix\n",
            "[[0.99 0.01]\n",
            " [0.01 0.99]]\n"
          ]
        },
        {
          "output_type": "display_data",
          "data": {
            "text/plain": [
              "<Figure size 432x288 with 2 Axes>"
            ],
            "image/png": "[encoded data removed]"
          },
          "metadata": {
            "needs_background": "light"
          }
        },
        {
          "output_type": "stream",
          "name": "stdout",
          "text": [
            "Confusion matrix, without normalization\n",
            "[[144   1]\n",
            " [  2 133]]\n"
          ]
        },
        {
          "output_type": "display_data",
          "data": {
            "text/plain": [
              "<Figure size 432x288 with 2 Axes>"
            ],
            "image/png": "[encoded data removed]"
          },
          "metadata": {
            "needs_background": "light"
          }
        },
        {
          "output_type": "display_data",
          "data": {
            "text/plain": [
              "<Figure size 432x288 with 1 Axes>"
            ],
            "image/png": "[encoded data removed]"
          },
          "metadata": {
            "needs_background": "light"
          }
        },
        {
          "output_type": "display_data",
          "data": {
            "text/plain": [
              "<Figure size 432x288 with 1 Axes>"
            ],
            "image/png": "[encoded data removed]"
          },
          "metadata": {
            "needs_background": "light"
          }
        }
      ],
      "source": [
        "cnf_matrix = confusion_matrix(testY_argm, pred)\n",
        "np.set_printoptions(precision=2)\n",
        "\n",
        "# Plot non/normalized confusion matrix\n",
        "plt.figure()\n",
        "plot_confusion_matrix(cnf_matrix,\n",
        "classes=lb.classes_, normalize=True)\n",
        "plt.show()\n",
        "\n",
        "plt.figure()\n",
        "plot_confusion_matrix(cnf_matrix,\n",
        "classes=lb.classes_, normalize=False)\n",
        "plt.show()\n",
        "\n",
        "f, ax = plt.subplots()\n",
        "ax.plot([None] + H.history['accuracy'], 'o-')\n",
        "ax.plot([None] + H.history['val_accuracy'], 'x-')\n",
        "\n",
        "ax.legend(['Train acc', 'Validation acc'], loc = 0)\n",
        "ax.set_title('Training/Validation acc per Epoch')\n",
        "ax.set_xlabel('Epoch')\n",
        "ax.set_ylabel('acc')\n",
        "plt.grid(True)\n",
        "\n",
        "f, ax = plt.subplots()\n",
        "ax.plot([None] + H.history['loss'], 'o-')\n",
        "ax.plot([None] + H.history['val_loss'], 'x-')\n",
        "ax.legend(['Train Loss', 'Validation Loss'], loc = 0)\n",
        "ax.set_title('Training/Validation Loss per Epoch')\n",
        "ax.set_xlabel('Epoch')\n",
        "ax.set_ylabel('loss')\n",
        "plt.grid(True)"
      ]
    }
  ],
  "metadata": {
    "accelerator": "GPU",
    "colab": {
      "collapsed_sections": [],
      "name": "Tuberculosis_VGG-16.ipynb",
      "provenance": [],
      "include_colab_link": true
    },
    "gpuClass": "standard",
    "kernelspec": {
      "display_name": "Python 3",
      "name": "python3"
    },
    "language_info": {
      "name": "python"
    }
  },
  "nbformat": 4,
  "nbformat_minor": 0
}